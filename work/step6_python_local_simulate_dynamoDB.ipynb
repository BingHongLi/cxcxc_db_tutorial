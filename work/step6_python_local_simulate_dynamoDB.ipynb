{
 "cells": [
  {
   "cell_type": "code",
   "execution_count": null,
   "metadata": {},
   "outputs": [],
   "source": [
    "# 安裝套件\n",
    "!pip install boto3 awscli"
   ]
  },
  {
   "cell_type": "code",
   "execution_count": null,
   "metadata": {},
   "outputs": [],
   "source": [
    "'''\n",
    "\n",
    "# 透過Python操作之前，先以awscli，進行操作資料\n",
    "\n",
    "# 輸入憑證，任意輸入credential，region填寫ddblocal\n",
    "aws configure\n",
    "\n",
    "\n",
    "\n",
    "# Create table\n",
    "aws dynamodb create-table \\\n",
    "    --table-name cxcxc-saa-demo \\\n",
    "    --attribute-definitions \\\n",
    "        AttributeName=Name,AttributeType=S \\\n",
    "        AttributeName=Age,AttributeType=N \\\n",
    "    --key-schema AttributeName=Name,KeyType=HASH AttributeName=Age,KeyType=RANGE \\\n",
    "    --provisioned-throughput ReadCapacityUnits=1,WriteCapacityUnits=1 \\\n",
    "    --endpoint-url http://dynamodb:8000  \\\n",
    "    --region ddblocal\n",
    "\n",
    "# List table\n",
    "aws dynamodb list-tables --endpoint-url=http://dynamodb:8000 --region ddblocal\n",
    "\n",
    "# insert data\n",
    "aws dynamodb put-item \\\n",
    "    --table-name Music \\\n",
    "    --item '{ \\\n",
    "        \"Namge\": {\"S\": \"Acme Band\"}, \\\n",
    "        \"Age\": {\"N\": 30}, \\\n",
    "        \"AlbumTitle\": {\"S\": \"Songs About Life\"} }' \\\n",
    "    --return-consumed-capacity TOTAL \\\n",
    "    --endpoint-url http://dynamodb:8000  \\\n",
    "    --region ddblocal\n",
    "\n",
    "'''"
   ]
  },
  {
   "cell_type": "code",
   "execution_count": null,
   "metadata": {},
   "outputs": [],
   "source": [
    "# 引用套件\n",
    "\n",
    "import boto3\n",
    "\n",
    "client = boto3.client('dynamodb',endpoint_url='http://dynamodb:8000',region_name=\"ddblocal\")\n"
   ]
  },
  {
   "cell_type": "code",
   "execution_count": null,
   "metadata": {},
   "outputs": [],
   "source": [
    "tables = client.list_tables()"
   ]
  },
  {
   "cell_type": "code",
   "execution_count": null,
   "metadata": {},
   "outputs": [],
   "source": [
    "print(tables)"
   ]
  },
  {
   "cell_type": "code",
   "execution_count": null,
   "metadata": {},
   "outputs": [],
   "source": [
    "# 插入資料\n",
    "item = {\n",
    "        'Name':{'S':'BingHongLi'},\n",
    "        'Age':{'N':'32'},\n",
    "        'Married':{'S': 'No'}\n",
    "}\n",
    "\n",
    "response = client.put_item(\n",
    "    TableName='cxcxc-saa-demo', \n",
    "    Item=item\n",
    ")\n",
    "print(\"UPLOADING ITEM\")\n",
    "print(response)"
   ]
  },
  {
   "cell_type": "code",
   "execution_count": null,
   "metadata": {},
   "outputs": [],
   "source": [
    "# 取得資料\n",
    "response = client.get_item(\n",
    "    TableName=\"cxcxc-saa-demo\",\n",
    "    Key={\n",
    "        'Name': {'S': 'Acme Band'},\n",
    "        'Age': {'N': '30'}\n",
    "    }\n",
    ")\n",
    "\n",
    "print(response.get('Item'))"
   ]
  }
 ],
 "metadata": {
  "kernelspec": {
   "display_name": "Python 3",
   "language": "python",
   "name": "python3"
  },
  "language_info": {
   "codemirror_mode": {
    "name": "ipython",
    "version": 3
   },
   "file_extension": ".py",
   "mimetype": "text/x-python",
   "name": "python",
   "nbconvert_exporter": "python",
   "pygments_lexer": "ipython3",
   "version": "3.8.6"
  }
 },
 "nbformat": 4,
 "nbformat_minor": 4
}
