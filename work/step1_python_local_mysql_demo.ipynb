{
 "cells": [
  {
   "cell_type": "code",
   "execution_count": null,
   "metadata": {},
   "outputs": [],
   "source": [
    "!pip install pymysql"
   ]
  },
  {
   "cell_type": "code",
   "execution_count": null,
   "metadata": {},
   "outputs": [],
   "source": [
    "# 引入套件\n",
    "import pymysql\n",
    "\n",
    "# 建立客戶端\n",
    "con = pymysql.connect('db', 'root', 'cxcxc_demo', 'cxcxc_tutorial')"
   ]
  },
  {
   "cell_type": "code",
   "execution_count": null,
   "metadata": {},
   "outputs": [],
   "source": [
    "# 利用客戶端與資料庫建立連線，並輸入查詢語法，取得結果\n",
    "with con.cursor() as cur:\n",
    "\n",
    "    cur.execute('SELECT * FROM cxcxc_tutorial.users ;')\n",
    "\n",
    "    rows = cur.fetchall()\n",
    "\n",
    "    for row in rows:\n",
    "        print(f'{row[0]} {row[1]} {row[2]}')\n",
    "\n"
   ]
  },
  {
   "cell_type": "code",
   "execution_count": null,
   "metadata": {},
   "outputs": [],
   "source": [
    "# 關閉連結\n",
    "con.close()"
   ]
  },
  {
   "cell_type": "code",
   "execution_count": null,
   "metadata": {},
   "outputs": [],
   "source": [
    "# 再執行，發現報錯，原因就在於客戶端的緣故\n",
    "with con.cursor() as cur:\n",
    "\n",
    "    cur.execute('SELECT * FROM cxcxc_tutorial.users ;')\n",
    "\n",
    "    rows = cur.fetchall()\n",
    "\n",
    "    for row in rows:\n",
    "        print(f'{row[0]} {row[1]} {row[2]}')"
   ]
  }
 ],
 "metadata": {
  "kernelspec": {
   "display_name": "Python 3",
   "language": "python",
   "name": "python3"
  },
  "language_info": {
   "codemirror_mode": {
    "name": "ipython",
    "version": 3
   },
   "file_extension": ".py",
   "mimetype": "text/x-python",
   "name": "python",
   "nbconvert_exporter": "python",
   "pygments_lexer": "ipython3",
   "version": "3.8.6"
  }
 },
 "nbformat": 4,
 "nbformat_minor": 4
}
