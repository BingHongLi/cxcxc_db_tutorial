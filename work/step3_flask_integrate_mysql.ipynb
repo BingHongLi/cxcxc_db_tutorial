{
 "cells": [
  {
   "cell_type": "code",
   "execution_count": null,
   "metadata": {},
   "outputs": [],
   "source": [
    "!pip install pymysql flask flask_ngrok"
   ]
  },
  {
   "cell_type": "code",
   "execution_count": null,
   "metadata": {},
   "outputs": [],
   "source": [
    "# 引用套件\n",
    "from flask import Flask, request, abort,jsonify\n",
    "\n",
    "# 引用套件\n",
    "import pymysql\n",
    "\n",
    "app = Flask(__name__,static_url_path=\"/images\",static_folder=\"./images\")\n",
    "\n",
    "@app.route(\"/users\",methods=['GET'])\n",
    "def get_all_user():\n",
    "    \n",
    "    # 變更資料庫的連線位置為同學們搭建的RDS位置\n",
    "    con = pymysql.connect(\n",
    "                      'DB Enpoint', \n",
    "                      'DB User Name', \n",
    "                      'DB User Password', \n",
    "                      'DB NAME',\n",
    "                       cursorclass=pymysql.cursors.DictCursor\n",
    "                    )\n",
    "    \n",
    "    try:\n",
    "        with con.cursor() as cur:\n",
    "\n",
    "            cur.execute('SELECT * FROM cxcxc_tutorial.users ;')\n",
    "\n",
    "            rows = cur.fetchall()\n",
    "\n",
    "\n",
    "    finally:\n",
    "        con.close()\n",
    "\n",
    "    \n",
    "    return jsonify(rows)\n",
    "\n",
    "@app.route(\"/delete\",methods=['GET'])\n",
    "def delete_table():\n",
    "    \n",
    "    # 變更資料庫的連線位置為同學們搭建的RDS位置\n",
    "    con = pymysql.connect(\n",
    "                      'DB Enpoint', \n",
    "                      'DB User Name', \n",
    "                      'DB User Password', \n",
    "                      'DB NAME',\n",
    "                       cursorclass=pymysql.cursors.DictCursor\n",
    "                    )\n",
    "    \n",
    "    try:\n",
    "        with con.cursor() as cur:\n",
    "\n",
    "            cur.execute('DROP TABLE cxcxc_tutorial.users ')\n",
    "\n",
    "            rows = cur.fetchall()\n",
    "\n",
    "\n",
    "    finally:\n",
    "        con.close()\n",
    "\n",
    "    \n",
    "    return jsonify(rows)\n",
    "\n",
    "\n",
    "app.run(host=\"0.0.0.0\",port=5000)"
   ]
  },
  {
   "cell_type": "code",
   "execution_count": null,
   "metadata": {},
   "outputs": [],
   "source": []
  }
 ],
 "metadata": {
  "kernelspec": {
   "display_name": "Python 3",
   "language": "python",
   "name": "python3"
  },
  "language_info": {
   "codemirror_mode": {
    "name": "ipython",
    "version": 3
   },
   "file_extension": ".py",
   "mimetype": "text/x-python",
   "name": "python",
   "nbconvert_exporter": "python",
   "pygments_lexer": "ipython3",
   "version": "3.8.6"
  }
 },
 "nbformat": 4,
 "nbformat_minor": 4
}
