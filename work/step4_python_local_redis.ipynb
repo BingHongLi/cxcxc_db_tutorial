{
 "cells": [
  {
   "cell_type": "code",
   "execution_count": null,
   "metadata": {},
   "outputs": [],
   "source": [
    "# https://github.com/andymccurdy/redis-py?_ga=2.236740041.97750091.1610003035-25966557.1610003035\n",
    "!pip install redis"
   ]
  },
  {
   "cell_type": "code",
   "execution_count": null,
   "metadata": {},
   "outputs": [],
   "source": [
    "# 引用套件與客戶端建立\n",
    "import redis\n",
    "# r = redis.Redis(host='Host DNS, port=6379, db=0)\n",
    "r = redis.Redis(host='cache.pri', port=6379, db=0)"
   ]
  },
  {
   "cell_type": "code",
   "execution_count": null,
   "metadata": {},
   "outputs": [],
   "source": [
    "# 取用資料\n",
    "# r.set(\"key\",\"value\")\n",
    "r.set('cxcxc','aws-saa')"
   ]
  },
  {
   "cell_type": "code",
   "execution_count": null,
   "metadata": {},
   "outputs": [],
   "source": [
    "# 新增資料\n",
    "# r.get(\"key\")\n",
    "r.get('cxcxc')"
   ]
  }
 ],
 "metadata": {
  "kernelspec": {
   "display_name": "Python 3",
   "language": "python",
   "name": "python3"
  },
  "language_info": {
   "codemirror_mode": {
    "name": "ipython",
    "version": 3
   },
   "file_extension": ".py",
   "mimetype": "text/x-python",
   "name": "python",
   "nbconvert_exporter": "python",
   "pygments_lexer": "ipython3",
   "version": "3.8.6"
  }
 },
 "nbformat": 4,
 "nbformat_minor": 4
}
